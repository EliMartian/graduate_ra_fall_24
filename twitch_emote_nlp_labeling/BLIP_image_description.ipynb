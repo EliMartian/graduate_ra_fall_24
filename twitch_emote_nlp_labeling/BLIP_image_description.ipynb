{
  "cells": [
    {
      "cell_type": "markdown",
      "metadata": {
        "id": "GzvKk5kHpkpe"
      },
      "source": [
        "# Context\n",
        "\n",
        "We want a scalable solution to describing visually what a Twitch streaming channel's emotes look like. Right now, the emotes do not have descriptions accessible on the Twitch website or 3rd party websites either.\n",
        "\n",
        "Thus, I plan to leverage using Salesforce's BLIP NLP model to provide labels, and use Beautiful Soup to scrape the HTML of the emote name and web URL off the Twitch emote sites, and then create a resulting CSV of the map between an emote name, and what it looks like visually.\n",
        "\n",
        "This is done in an effort to give our LLMs more insight into what Twitch channel specific emotes (like Hasan Abi channel for example) with their own custom emotes that LLMs have not been trained on so we can provide an accurate decision about how the emote is being used in context with a respective chat message."
      ]
    },
    {
      "cell_type": "markdown",
      "metadata": {
        "id": "hc0HeGTUaeZD"
      },
      "source": [
        "# Installation and Setup"
      ]
    },
    {
      "cell_type": "code",
      "execution_count": 1,
      "metadata": {
        "colab": {
          "base_uri": "https://localhost:8080/"
        },
        "id": "TagI6rWgacDD",
        "outputId": "189f563e-b1a5-438f-81fe-03be9a39b10a"
      },
      "outputs": [
        {
          "output_type": "stream",
          "name": "stdout",
          "text": [
            "Requirement already satisfied: requests in /usr/local/lib/python3.10/dist-packages (2.32.3)\n",
            "Requirement already satisfied: beautifulsoup4 in /usr/local/lib/python3.10/dist-packages (4.12.3)\n",
            "Requirement already satisfied: charset-normalizer<4,>=2 in /usr/local/lib/python3.10/dist-packages (from requests) (3.3.2)\n",
            "Requirement already satisfied: idna<4,>=2.5 in /usr/local/lib/python3.10/dist-packages (from requests) (3.10)\n",
            "Requirement already satisfied: urllib3<3,>=1.21.1 in /usr/local/lib/python3.10/dist-packages (from requests) (2.2.3)\n",
            "Requirement already satisfied: certifi>=2017.4.17 in /usr/local/lib/python3.10/dist-packages (from requests) (2024.8.30)\n",
            "Requirement already satisfied: soupsieve>1.2 in /usr/local/lib/python3.10/dist-packages (from beautifulsoup4) (2.6)\n",
            "Collecting playwright\n",
            "  Downloading playwright-1.47.0-py3-none-manylinux1_x86_64.whl.metadata (3.5 kB)\n",
            "Collecting greenlet==3.0.3 (from playwright)\n",
            "  Downloading greenlet-3.0.3-cp310-cp310-manylinux_2_24_x86_64.manylinux_2_28_x86_64.whl.metadata (3.8 kB)\n",
            "Collecting pyee==12.0.0 (from playwright)\n",
            "  Downloading pyee-12.0.0-py3-none-any.whl.metadata (2.8 kB)\n",
            "Requirement already satisfied: typing-extensions in /usr/local/lib/python3.10/dist-packages (from pyee==12.0.0->playwright) (4.12.2)\n",
            "Downloading playwright-1.47.0-py3-none-manylinux1_x86_64.whl (38.1 MB)\n",
            "\u001b[2K   \u001b[90m━━━━━━━━━━━━━━━━━━━━━━━━━━━━━━━━━━━━━━━━\u001b[0m \u001b[32m38.1/38.1 MB\u001b[0m \u001b[31m4.6 MB/s\u001b[0m eta \u001b[36m0:00:00\u001b[0m\n",
            "\u001b[?25hDownloading greenlet-3.0.3-cp310-cp310-manylinux_2_24_x86_64.manylinux_2_28_x86_64.whl (616 kB)\n",
            "\u001b[2K   \u001b[90m━━━━━━━━━━━━━━━━━━━━━━━━━━━━━━━━━━━━━━━━\u001b[0m \u001b[32m616.0/616.0 kB\u001b[0m \u001b[31m4.3 MB/s\u001b[0m eta \u001b[36m0:00:00\u001b[0m\n",
            "\u001b[?25hDownloading pyee-12.0.0-py3-none-any.whl (14 kB)\n",
            "Installing collected packages: pyee, greenlet, playwright\n",
            "  Attempting uninstall: greenlet\n",
            "    Found existing installation: greenlet 3.1.1\n",
            "    Uninstalling greenlet-3.1.1:\n",
            "      Successfully uninstalled greenlet-3.1.1\n",
            "Successfully installed greenlet-3.0.3 playwright-1.47.0 pyee-12.0.0\n",
            "Requirement already satisfied: nest_asyncio in /usr/local/lib/python3.10/dist-packages (1.6.0)\n",
            "Downloading Chromium 129.0.6668.29 (playwright build v1134)\u001b[2m from https://playwright.azureedge.net/builds/chromium/1134/chromium-linux.zip\u001b[22m\n",
            "\u001b[1G164 MiB [] 0% 10.8s\u001b[0K\u001b[1G164 MiB [] 0% 7.4s\u001b[0K\u001b[1G164 MiB [] 0% 4.4s\u001b[0K\u001b[1G164 MiB [] 1% 3.6s\u001b[0K\u001b[1G164 MiB [] 2% 3.2s\u001b[0K\u001b[1G164 MiB [] 2% 3.1s\u001b[0K\u001b[1G164 MiB [] 3% 3.1s\u001b[0K\u001b[1G164 MiB [] 3% 3.0s\u001b[0K\u001b[1G164 MiB [] 4% 2.9s\u001b[0K\u001b[1G164 MiB [] 5% 2.8s\u001b[0K\u001b[1G164 MiB [] 6% 2.8s\u001b[0K\u001b[1G164 MiB [] 7% 2.7s\u001b[0K\u001b[1G164 MiB [] 8% 2.6s\u001b[0K\u001b[1G164 MiB [] 9% 2.6s\u001b[0K\u001b[1G164 MiB [] 10% 2.5s\u001b[0K\u001b[1G164 MiB [] 11% 2.5s\u001b[0K\u001b[1G164 MiB [] 12% 2.5s\u001b[0K\u001b[1G164 MiB [] 13% 2.5s\u001b[0K\u001b[1G164 MiB [] 13% 2.6s\u001b[0K\u001b[1G164 MiB [] 15% 2.4s\u001b[0K\u001b[1G164 MiB [] 15% 2.5s\u001b[0K\u001b[1G164 MiB [] 16% 2.5s\u001b[0K\u001b[1G164 MiB [] 17% 2.4s\u001b[0K\u001b[1G164 MiB [] 18% 2.4s\u001b[0K\u001b[1G164 MiB [] 19% 2.4s\u001b[0K\u001b[1G164 MiB [] 20% 2.4s\u001b[0K\u001b[1G164 MiB [] 21% 2.3s\u001b[0K\u001b[1G164 MiB [] 22% 2.3s\u001b[0K\u001b[1G164 MiB [] 23% 2.3s\u001b[0K\u001b[1G164 MiB [] 23% 2.2s\u001b[0K\u001b[1G164 MiB [] 24% 2.2s\u001b[0K\u001b[1G164 MiB [] 25% 2.2s\u001b[0K\u001b[1G164 MiB [] 26% 2.2s\u001b[0K\u001b[1G164 MiB [] 27% 2.1s\u001b[0K\u001b[1G164 MiB [] 28% 2.1s\u001b[0K\u001b[1G164 MiB [] 29% 2.0s\u001b[0K\u001b[1G164 MiB [] 30% 2.0s\u001b[0K\u001b[1G164 MiB [] 31% 2.0s\u001b[0K\u001b[1G164 MiB [] 32% 2.0s\u001b[0K\u001b[1G164 MiB [] 32% 1.9s\u001b[0K\u001b[1G164 MiB [] 33% 1.9s\u001b[0K\u001b[1G164 MiB [] 34% 1.8s\u001b[0K\u001b[1G164 MiB [] 35% 1.8s\u001b[0K\u001b[1G164 MiB [] 36% 1.8s\u001b[0K\u001b[1G164 MiB [] 37% 1.7s\u001b[0K\u001b[1G164 MiB [] 38% 1.7s\u001b[0K\u001b[1G164 MiB [] 39% 1.6s\u001b[0K\u001b[1G164 MiB [] 40% 1.6s\u001b[0K\u001b[1G164 MiB [] 41% 1.6s\u001b[0K\u001b[1G164 MiB [] 42% 1.6s\u001b[0K\u001b[1G164 MiB [] 42% 1.5s\u001b[0K\u001b[1G164 MiB [] 43% 1.5s\u001b[0K\u001b[1G164 MiB [] 44% 1.5s\u001b[0K\u001b[1G164 MiB [] 45% 1.5s\u001b[0K\u001b[1G164 MiB [] 46% 1.4s\u001b[0K\u001b[1G164 MiB [] 47% 1.4s\u001b[0K\u001b[1G164 MiB [] 48% 1.4s\u001b[0K\u001b[1G164 MiB [] 49% 1.4s\u001b[0K\u001b[1G164 MiB [] 49% 1.3s\u001b[0K\u001b[1G164 MiB [] 50% 1.3s\u001b[0K\u001b[1G164 MiB [] 51% 1.3s\u001b[0K\u001b[1G164 MiB [] 52% 1.3s\u001b[0K\u001b[1G164 MiB [] 53% 1.2s\u001b[0K\u001b[1G164 MiB [] 54% 1.2s\u001b[0K\u001b[1G164 MiB [] 55% 1.2s\u001b[0K\u001b[1G164 MiB [] 56% 1.1s\u001b[0K\u001b[1G164 MiB [] 57% 1.1s\u001b[0K\u001b[1G164 MiB [] 58% 1.1s\u001b[0K\u001b[1G164 MiB [] 58% 1.0s\u001b[0K\u001b[1G164 MiB [] 59% 1.0s\u001b[0K\u001b[1G164 MiB [] 60% 1.0s\u001b[0K\u001b[1G164 MiB [] 61% 1.0s\u001b[0K\u001b[1G164 MiB [] 62% 1.0s\u001b[0K\u001b[1G164 MiB [] 62% 0.9s\u001b[0K\u001b[1G164 MiB [] 63% 0.9s\u001b[0K\u001b[1G164 MiB [] 64% 0.9s\u001b[0K\u001b[1G164 MiB [] 65% 0.9s\u001b[0K\u001b[1G164 MiB [] 66% 0.8s\u001b[0K\u001b[1G164 MiB [] 67% 0.8s\u001b[0K\u001b[1G164 MiB [] 68% 0.8s\u001b[0K\u001b[1G164 MiB [] 69% 0.8s\u001b[0K\u001b[1G164 MiB [] 70% 0.8s\u001b[0K\u001b[1G164 MiB [] 70% 0.7s\u001b[0K\u001b[1G164 MiB [] 71% 0.7s\u001b[0K\u001b[1G164 MiB [] 72% 0.7s\u001b[0K\u001b[1G164 MiB [] 73% 0.7s\u001b[0K\u001b[1G164 MiB [] 74% 0.7s\u001b[0K\u001b[1G164 MiB [] 75% 0.7s\u001b[0K\u001b[1G164 MiB [] 75% 0.6s\u001b[0K\u001b[1G164 MiB [] 76% 0.6s\u001b[0K\u001b[1G164 MiB [] 77% 0.6s\u001b[0K\u001b[1G164 MiB [] 78% 0.6s\u001b[0K\u001b[1G164 MiB [] 79% 0.6s\u001b[0K\u001b[1G164 MiB [] 79% 0.5s\u001b[0K\u001b[1G164 MiB [] 80% 0.5s\u001b[0K\u001b[1G164 MiB [] 81% 0.5s\u001b[0K\u001b[1G164 MiB [] 82% 0.5s\u001b[0K\u001b[1G164 MiB [] 83% 0.5s\u001b[0K\u001b[1G164 MiB [] 83% 0.4s\u001b[0K\u001b[1G164 MiB [] 84% 0.4s\u001b[0K\u001b[1G164 MiB [] 85% 0.4s\u001b[0K\u001b[1G164 MiB [] 86% 0.4s\u001b[0K\u001b[1G164 MiB [] 87% 0.3s\u001b[0K\u001b[1G164 MiB [] 88% 0.3s\u001b[0K\u001b[1G164 MiB [] 89% 0.3s\u001b[0K\u001b[1G164 MiB [] 90% 0.3s\u001b[0K\u001b[1G164 MiB [] 91% 0.2s\u001b[0K\u001b[1G164 MiB [] 92% 0.2s\u001b[0K\u001b[1G164 MiB [] 93% 0.2s\u001b[0K\u001b[1G164 MiB [] 94% 0.2s\u001b[0K\u001b[1G164 MiB [] 94% 0.1s\u001b[0K\u001b[1G164 MiB [] 95% 0.1s\u001b[0K\u001b[1G164 MiB [] 96% 0.1s\u001b[0K\u001b[1G164 MiB [] 97% 0.1s\u001b[0K\u001b[1G164 MiB [] 98% 0.0s\u001b[0K\u001b[1G164 MiB [] 99% 0.0s\u001b[0K\u001b[1G164 MiB [] 100% 0.0s\u001b[0K\n",
            "Chromium 129.0.6668.29 (playwright build v1134) downloaded to /root/.cache/ms-playwright/chromium-1134\n",
            "Downloading FFMPEG playwright build v1010\u001b[2m from https://playwright.azureedge.net/builds/ffmpeg/1010/ffmpeg-linux.zip\u001b[22m\n",
            "\u001b[1G2.3 MiB [] 0% 0.0s\u001b[0K\u001b[1G2.3 MiB [] 4% 1.2s\u001b[0K\u001b[1G2.3 MiB [] 6% 1.6s\u001b[0K\u001b[1G2.3 MiB [] 7% 1.6s\u001b[0K\u001b[1G2.3 MiB [] 10% 1.4s\u001b[0K\u001b[1G2.3 MiB [] 15% 1.0s\u001b[0K\u001b[1G2.3 MiB [] 21% 0.7s\u001b[0K\u001b[1G2.3 MiB [] 29% 0.5s\u001b[0K\u001b[1G2.3 MiB [] 35% 0.4s\u001b[0K\u001b[1G2.3 MiB [] 45% 0.3s\u001b[0K\u001b[1G2.3 MiB [] 62% 0.2s\u001b[0K\u001b[1G2.3 MiB [] 67% 0.1s\u001b[0K\u001b[1G2.3 MiB [] 89% 0.0s\u001b[0K\u001b[1G2.3 MiB [] 98% 0.0s\u001b[0K\u001b[1G2.3 MiB [] 100% 0.0s\u001b[0K\n",
            "FFMPEG playwright build v1010 downloaded to /root/.cache/ms-playwright/ffmpeg-1010\n",
            "Downloading Firefox 130.0 (playwright build v1463)\u001b[2m from https://playwright.azureedge.net/builds/firefox/1463/firefox-ubuntu-22.04.zip\u001b[22m\n",
            "\u001b[1G86.4 MiB [] 0% 0.0s\u001b[0K\u001b[1G86.4 MiB [] 0% 4.2s\u001b[0K\u001b[1G86.4 MiB [] 0% 3.2s\u001b[0K\u001b[1G86.4 MiB [] 2% 2.0s\u001b[0K\u001b[1G86.4 MiB [] 3% 1.8s\u001b[0K\u001b[1G86.4 MiB [] 4% 1.7s\u001b[0K\u001b[1G86.4 MiB [] 5% 1.7s\u001b[0K\u001b[1G86.4 MiB [] 5% 1.8s\u001b[0K\u001b[1G86.4 MiB [] 6% 1.8s\u001b[0K\u001b[1G86.4 MiB [] 7% 1.8s\u001b[0K\u001b[1G86.4 MiB [] 8% 1.8s\u001b[0K\u001b[1G86.4 MiB [] 9% 1.7s\u001b[0K\u001b[1G86.4 MiB [] 10% 1.6s\u001b[0K\u001b[1G86.4 MiB [] 11% 1.6s\u001b[0K\u001b[1G86.4 MiB [] 13% 1.5s\u001b[0K\u001b[1G86.4 MiB [] 15% 1.4s\u001b[0K\u001b[1G86.4 MiB [] 17% 1.4s\u001b[0K\u001b[1G86.4 MiB [] 18% 1.3s\u001b[0K\u001b[1G86.4 MiB [] 19% 1.3s\u001b[0K\u001b[1G86.4 MiB [] 21% 1.2s\u001b[0K\u001b[1G86.4 MiB [] 22% 1.2s\u001b[0K\u001b[1G86.4 MiB [] 23% 1.2s\u001b[0K\u001b[1G86.4 MiB [] 24% 1.1s\u001b[0K\u001b[1G86.4 MiB [] 26% 1.1s\u001b[0K\u001b[1G86.4 MiB [] 28% 1.0s\u001b[0K\u001b[1G86.4 MiB [] 29% 1.0s\u001b[0K\u001b[1G86.4 MiB [] 30% 1.0s\u001b[0K\u001b[1G86.4 MiB [] 32% 1.0s\u001b[0K\u001b[1G86.4 MiB [] 34% 0.9s\u001b[0K\u001b[1G86.4 MiB [] 36% 0.9s\u001b[0K\u001b[1G86.4 MiB [] 38% 0.8s\u001b[0K\u001b[1G86.4 MiB [] 39% 0.8s\u001b[0K\u001b[1G86.4 MiB [] 40% 0.8s\u001b[0K\u001b[1G86.4 MiB [] 42% 0.8s\u001b[0K\u001b[1G86.4 MiB [] 43% 0.7s\u001b[0K\u001b[1G86.4 MiB [] 45% 0.7s\u001b[0K\u001b[1G86.4 MiB [] 46% 0.7s\u001b[0K\u001b[1G86.4 MiB [] 47% 0.7s\u001b[0K\u001b[1G86.4 MiB [] 49% 0.7s\u001b[0K\u001b[1G86.4 MiB [] 51% 0.6s\u001b[0K\u001b[1G86.4 MiB [] 53% 0.6s\u001b[0K\u001b[1G86.4 MiB [] 55% 0.5s\u001b[0K\u001b[1G86.4 MiB [] 57% 0.5s\u001b[0K\u001b[1G86.4 MiB [] 59% 0.5s\u001b[0K\u001b[1G86.4 MiB [] 61% 0.5s\u001b[0K\u001b[1G86.4 MiB [] 63% 0.4s\u001b[0K\u001b[1G86.4 MiB [] 65% 0.4s\u001b[0K\u001b[1G86.4 MiB [] 67% 0.4s\u001b[0K\u001b[1G86.4 MiB [] 69% 0.4s\u001b[0K\u001b[1G86.4 MiB [] 71% 0.3s\u001b[0K\u001b[1G86.4 MiB [] 74% 0.3s\u001b[0K\u001b[1G86.4 MiB [] 76% 0.3s\u001b[0K\u001b[1G86.4 MiB [] 79% 0.2s\u001b[0K\u001b[1G86.4 MiB [] 81% 0.2s\u001b[0K\u001b[1G86.4 MiB [] 84% 0.2s\u001b[0K\u001b[1G86.4 MiB [] 86% 0.1s\u001b[0K\u001b[1G86.4 MiB [] 88% 0.1s\u001b[0K\u001b[1G86.4 MiB [] 91% 0.1s\u001b[0K\u001b[1G86.4 MiB [] 93% 0.1s\u001b[0K\u001b[1G86.4 MiB [] 95% 0.0s\u001b[0K\u001b[1G86.4 MiB [] 99% 0.0s\u001b[0K\u001b[1G86.4 MiB [] 100% 0.0s\u001b[0K\n",
            "Firefox 130.0 (playwright build v1463) downloaded to /root/.cache/ms-playwright/firefox-1463\n",
            "Downloading Webkit 18.0 (playwright build v2070)\u001b[2m from https://playwright.azureedge.net/builds/webkit/2070/webkit-ubuntu-22.04.zip\u001b[22m\n",
            "\u001b[1G88.2 MiB [] 0% 0.0s\u001b[0K\u001b[1G88.2 MiB [] 0% 18.2s\u001b[0K\u001b[1G88.2 MiB [] 0% 50.3s\u001b[0K\u001b[1G88.2 MiB [] 0% 63.0s\u001b[0K\u001b[1G88.2 MiB [] 0% 75.6s\u001b[0K\u001b[1G88.2 MiB [] 0% 79.6s\u001b[0K\u001b[1G88.2 MiB [] 0% 77.7s\u001b[0K\u001b[1G88.2 MiB [] 0% 68.3s\u001b[0K\u001b[1G88.2 MiB [] 0% 54.2s\u001b[0K\u001b[1G88.2 MiB [] 0% 31.6s\u001b[0K\u001b[1G88.2 MiB [] 1% 17.9s\u001b[0K\u001b[1G88.2 MiB [] 2% 13.7s\u001b[0K\u001b[1G88.2 MiB [] 3% 10.8s\u001b[0K\u001b[1G88.2 MiB [] 3% 9.2s\u001b[0K\u001b[1G88.2 MiB [] 4% 8.5s\u001b[0K\u001b[1G88.2 MiB [] 4% 8.1s\u001b[0K\u001b[1G88.2 MiB [] 5% 7.6s\u001b[0K\u001b[1G88.2 MiB [] 5% 7.3s\u001b[0K\u001b[1G88.2 MiB [] 6% 6.3s\u001b[0K\u001b[1G88.2 MiB [] 7% 6.2s\u001b[0K\u001b[1G88.2 MiB [] 7% 6.5s\u001b[0K\u001b[1G88.2 MiB [] 7% 6.2s\u001b[0K\u001b[1G88.2 MiB [] 8% 5.9s\u001b[0K\u001b[1G88.2 MiB [] 9% 5.6s\u001b[0K\u001b[1G88.2 MiB [] 10% 5.0s\u001b[0K\u001b[1G88.2 MiB [] 11% 4.5s\u001b[0K\u001b[1G88.2 MiB [] 12% 4.3s\u001b[0K\u001b[1G88.2 MiB [] 13% 4.2s\u001b[0K\u001b[1G88.2 MiB [] 14% 3.9s\u001b[0K\u001b[1G88.2 MiB [] 15% 3.6s\u001b[0K\u001b[1G88.2 MiB [] 16% 3.4s\u001b[0K\u001b[1G88.2 MiB [] 17% 3.3s\u001b[0K\u001b[1G88.2 MiB [] 18% 3.2s\u001b[0K\u001b[1G88.2 MiB [] 18% 3.1s\u001b[0K\u001b[1G88.2 MiB [] 19% 3.0s\u001b[0K\u001b[1G88.2 MiB [] 20% 2.9s\u001b[0K\u001b[1G88.2 MiB [] 21% 2.8s\u001b[0K\u001b[1G88.2 MiB [] 22% 2.7s\u001b[0K\u001b[1G88.2 MiB [] 23% 2.6s\u001b[0K\u001b[1G88.2 MiB [] 24% 2.5s\u001b[0K\u001b[1G88.2 MiB [] 25% 2.4s\u001b[0K\u001b[1G88.2 MiB [] 27% 2.3s\u001b[0K\u001b[1G88.2 MiB [] 28% 2.2s\u001b[0K\u001b[1G88.2 MiB [] 29% 2.1s\u001b[0K\u001b[1G88.2 MiB [] 30% 2.0s\u001b[0K\u001b[1G88.2 MiB [] 32% 2.0s\u001b[0K\u001b[1G88.2 MiB [] 33% 1.8s\u001b[0K\u001b[1G88.2 MiB [] 34% 1.8s\u001b[0K\u001b[1G88.2 MiB [] 35% 1.8s\u001b[0K\u001b[1G88.2 MiB [] 36% 1.8s\u001b[0K\u001b[1G88.2 MiB [] 37% 1.8s\u001b[0K\u001b[1G88.2 MiB [] 38% 1.7s\u001b[0K\u001b[1G88.2 MiB [] 39% 1.7s\u001b[0K\u001b[1G88.2 MiB [] 40% 1.6s\u001b[0K\u001b[1G88.2 MiB [] 41% 1.6s\u001b[0K\u001b[1G88.2 MiB [] 43% 1.5s\u001b[0K\u001b[1G88.2 MiB [] 44% 1.5s\u001b[0K\u001b[1G88.2 MiB [] 45% 1.5s\u001b[0K\u001b[1G88.2 MiB [] 46% 1.4s\u001b[0K\u001b[1G88.2 MiB [] 48% 1.4s\u001b[0K\u001b[1G88.2 MiB [] 49% 1.3s\u001b[0K\u001b[1G88.2 MiB [] 50% 1.3s\u001b[0K\u001b[1G88.2 MiB [] 52% 1.2s\u001b[0K\u001b[1G88.2 MiB [] 53% 1.2s\u001b[0K\u001b[1G88.2 MiB [] 54% 1.2s\u001b[0K\u001b[1G88.2 MiB [] 56% 1.1s\u001b[0K\u001b[1G88.2 MiB [] 57% 1.1s\u001b[0K\u001b[1G88.2 MiB [] 58% 1.0s\u001b[0K\u001b[1G88.2 MiB [] 59% 1.0s\u001b[0K\u001b[1G88.2 MiB [] 60% 1.0s\u001b[0K\u001b[1G88.2 MiB [] 61% 0.9s\u001b[0K\u001b[1G88.2 MiB [] 62% 0.9s\u001b[0K\u001b[1G88.2 MiB [] 63% 0.9s\u001b[0K\u001b[1G88.2 MiB [] 64% 0.8s\u001b[0K\u001b[1G88.2 MiB [] 66% 0.8s\u001b[0K\u001b[1G88.2 MiB [] 67% 0.8s\u001b[0K\u001b[1G88.2 MiB [] 68% 0.7s\u001b[0K\u001b[1G88.2 MiB [] 69% 0.7s\u001b[0K\u001b[1G88.2 MiB [] 71% 0.7s\u001b[0K\u001b[1G88.2 MiB [] 72% 0.6s\u001b[0K\u001b[1G88.2 MiB [] 73% 0.6s\u001b[0K\u001b[1G88.2 MiB [] 74% 0.6s\u001b[0K\u001b[1G88.2 MiB [] 76% 0.5s\u001b[0K\u001b[1G88.2 MiB [] 77% 0.5s\u001b[0K\u001b[1G88.2 MiB [] 78% 0.5s\u001b[0K\u001b[1G88.2 MiB [] 79% 0.5s\u001b[0K\u001b[1G88.2 MiB [] 80% 0.4s\u001b[0K\u001b[1G88.2 MiB [] 82% 0.4s\u001b[0K\u001b[1G88.2 MiB [] 83% 0.4s\u001b[0K\u001b[1G88.2 MiB [] 84% 0.3s\u001b[0K\u001b[1G88.2 MiB [] 85% 0.3s\u001b[0K\u001b[1G88.2 MiB [] 86% 0.3s\u001b[0K\u001b[1G88.2 MiB [] 87% 0.3s\u001b[0K\u001b[1G88.2 MiB [] 88% 0.3s\u001b[0K\u001b[1G88.2 MiB [] 89% 0.2s\u001b[0K\u001b[1G88.2 MiB [] 90% 0.2s\u001b[0K\u001b[1G88.2 MiB [] 91% 0.2s\u001b[0K\u001b[1G88.2 MiB [] 92% 0.2s\u001b[0K\u001b[1G88.2 MiB [] 93% 0.2s\u001b[0K\u001b[1G88.2 MiB [] 93% 0.1s\u001b[0K\u001b[1G88.2 MiB [] 94% 0.1s\u001b[0K\u001b[1G88.2 MiB [] 95% 0.1s\u001b[0K\u001b[1G88.2 MiB [] 96% 0.1s\u001b[0K\u001b[1G88.2 MiB [] 97% 0.1s\u001b[0K\u001b[1G88.2 MiB [] 98% 0.0s\u001b[0K\u001b[1G88.2 MiB [] 99% 0.0s\u001b[0K\u001b[1G88.2 MiB [] 100% 0.0s\u001b[0K\n",
            "Webkit 18.0 (playwright build v2070) downloaded to /root/.cache/ms-playwright/webkit-2070\n",
            "Playwright Host validation warning: \n",
            "╔══════════════════════════════════════════════════════╗\n",
            "║ Host system is missing dependencies to run browsers. ║\n",
            "║ Missing libraries:                                   ║\n",
            "║     libwoff2dec.so.1.0.2                             ║\n",
            "║     libgstgl-1.0.so.0                                ║\n",
            "║     libgstcodecparsers-1.0.so.0                      ║\n",
            "║     libharfbuzz-icu.so.0                             ║\n",
            "║     libenchant-2.so.2                                ║\n",
            "║     libsecret-1.so.0                                 ║\n",
            "║     libhyphen.so.0                                   ║\n",
            "║     libmanette-0.2.so.0                              ║\n",
            "╚══════════════════════════════════════════════════════╝\n",
            "    at validateDependenciesLinux (/usr/local/lib/python3.10/dist-packages/playwright/driver/package/lib/server/registry/dependencies.js:216:9)\n",
            "\u001b[90m    at process.processTicksAndRejections (node:internal/process/task_queues:95:5)\u001b[39m\n",
            "    at async Registry._validateHostRequirements (/usr/local/lib/python3.10/dist-packages/playwright/driver/package/lib/server/registry/index.js:626:43)\n",
            "    at async Registry._validateHostRequirementsForExecutableIfNeeded (/usr/local/lib/python3.10/dist-packages/playwright/driver/package/lib/server/registry/index.js:724:7)\n",
            "    at async Registry.validateHostRequirementsForExecutablesIfNeeded (/usr/local/lib/python3.10/dist-packages/playwright/driver/package/lib/server/registry/index.js:713:43)\n",
            "    at async t.<anonymous> (/usr/local/lib/python3.10/dist-packages/playwright/driver/package/lib/cli/program.js:119:7)\n"
          ]
        }
      ],
      "source": [
        "!pip install requests beautifulsoup4\n",
        "!pip install playwright\n",
        "!pip install nest_asyncio\n",
        "!playwright install"
      ]
    },
    {
      "cell_type": "markdown",
      "metadata": {
        "id": "PSgw95-3aYft"
      },
      "source": [
        "# Beautiful Soup Emote URL Scraper"
      ]
    },
    {
      "cell_type": "code",
      "execution_count": null,
      "metadata": {
        "colab": {
          "base_uri": "https://localhost:8080/"
        },
        "id": "qMfmRBtzakxF",
        "outputId": "b1c6a98c-44e1-4453-e5ef-3c92f8e2782f"
      },
      "outputs": [
        {
          "output_type": "stream",
          "name": "stdout",
          "text": [
            "\n",
            "App_pageContainer__GVAjd css-0\n",
            "App_navbar__EtTKO css-1d5kbc6\n",
            "App_content__naSmy css-zov8id\n",
            "chakra-stack css-1rafi8n\n",
            "chakra-stack css-f4lw87\n",
            "LogoLink_logo__tVxXE\n",
            "chakra-stack css-1igwmid\n",
            "css-r6z5ec\n",
            "chakra-menu__menu-list css-1li9mx9\n",
            "css-r6z5ec\n",
            "chakra-menu__menu-list css-1li9mx9\n",
            "App_mobile__cBbeb css-1aic1m5\n",
            "chakra-stack css-f4lw87\n",
            "LogoLink_logo__tVxXE\n",
            "chakra-collapse\n",
            "chakra-stack App_mobileStack__0NR8r css-14kotfj\n",
            "css-r6z5ec\n",
            "chakra-menu__menu-list css-1li9mx9\n",
            "css-r6z5ec\n",
            "chakra-menu__menu-list css-1li9mx9\n",
            "chakra-container css-k5mm6t\n",
            "inside charka css\n",
            "[<JSHandle preview=JSHandle@<img alt=\"2Yil\" class=\"EmoteCards_emoteCardImage__ibOi+ css-0\" src=\"https://cdn.betterttv.net/emote/60c199a7f8b3f62601c3b8d7/3x.webp\"/>>, <JSHandle preview=JSHandle@node>, <JSHandle preview=JSHandle@node>, <JSHandle preview=JSHandle@node>, <JSHandle preview=JSHandle@node>, <JSHandle preview=JSHandle@node>, <JSHandle preview=JSHandle@node>, <JSHandle preview=JSHandle@node>, <JSHandle preview=JSHandle@node>, <JSHandle preview=JSHandle@node>, <JSHandle preview=JSHandle@node>, <JSHandle preview=JSHandle@node>, <JSHandle preview=JSHandle@node>, <JSHandle preview=JSHandle@node>, <JSHandle preview=JSHandle@node>, <JSHandle preview=JSHandle@node>, <JSHandle preview=JSHandle@node>, <JSHandle preview=JSHandle@node>, <JSHandle preview=JSHandle@node>, <JSHandle preview=JSHandle@node>, <JSHandle preview=JSHandle@node>, <JSHandle preview=JSHandle@node>, <JSHandle preview=JSHandle@node>, <JSHandle preview=JSHandle@node>, <JSHandle preview=JSHandle@node>, <JSHandle preview=JSHandle@node>, <JSHandle preview=JSHandle@node>, <JSHandle preview=JSHandle@node>, <JSHandle preview=JSHandle@node>, <JSHandle preview=JSHandle@node>, <JSHandle preview=JSHandle@node>, <JSHandle preview=JSHandle@node>, <JSHandle preview=JSHandle@node>, <JSHandle preview=JSHandle@node>, <JSHandle preview=JSHandle@node>, <JSHandle preview=JSHandle@node>, <JSHandle preview=JSHandle@node>, <JSHandle preview=JSHandle@node>, <JSHandle preview=JSHandle@node>, <JSHandle preview=JSHandle@node>, <JSHandle preview=JSHandle@node>, <JSHandle preview=JSHandle@node>, <JSHandle preview=JSHandle@node>, <JSHandle preview=JSHandle@node>, <JSHandle preview=JSHandle@node>, <JSHandle preview=JSHandle@node>, <JSHandle preview=JSHandle@node>, <JSHandle preview=JSHandle@node>, <JSHandle preview=JSHandle@node>, <JSHandle preview=JSHandle@node>, <JSHandle preview=JSHandle@node>, <JSHandle preview=JSHandle@node>, <JSHandle preview=JSHandle@node>, <JSHandle preview=JSHandle@node>, <JSHandle preview=JSHandle@node>, <JSHandle preview=JSHandle@node>, <JSHandle preview=JSHandle@node>, <JSHandle preview=JSHandle@node>, <JSHandle preview=JSHandle@node>, <JSHandle preview=JSHandle@node>, <JSHandle preview=JSHandle@node>, <JSHandle preview=JSHandle@node>, <JSHandle preview=JSHandle@node>, <JSHandle preview=JSHandle@node>, <JSHandle preview=JSHandle@node>, <JSHandle preview=JSHandle@node>, <JSHandle preview=JSHandle@node>, <JSHandle preview=JSHandle@node>, <JSHandle preview=JSHandle@node>, <JSHandle preview=JSHandle@node>, <JSHandle preview=JSHandle@node>, <JSHandle preview=JSHandle@node>, <JSHandle preview=JSHandle@node>, <JSHandle preview=JSHandle@node>, <JSHandle preview=JSHandle@node>, <JSHandle preview=JSHandle@node>, <JSHandle preview=JSHandle@node>, <JSHandle preview=JSHandle@node>, <JSHandle preview=JSHandle@node>, <JSHandle preview=JSHandle@node>, <JSHandle preview=JSHandle@node>, <JSHandle preview=JSHandle@node>, <JSHandle preview=JSHandle@node>, <JSHandle preview=JSHandle@node>, <JSHandle preview=JSHandle@node>, <JSHandle preview=JSHandle@node>, <JSHandle preview=JSHandle@node>, <JSHandle preview=JSHandle@node>, <JSHandle preview=JSHandle@node>, <JSHandle preview=JSHandle@node>, <JSHandle preview=JSHandle@node>, <JSHandle preview=JSHandle@node>, <JSHandle preview=JSHandle@node>, <JSHandle preview=JSHandle@node>, <JSHandle preview=JSHandle@node>, <JSHandle preview=JSHandle@node>, <JSHandle preview=JSHandle@node>, <JSHandle preview=JSHandle@node>, <JSHandle preview=JSHandle@node>, <JSHandle preview=JSHandle@node>, <JSHandle preview=JSHandle@node>, <JSHandle preview=JSHandle@node>, <JSHandle preview=JSHandle@node>, <JSHandle preview=JSHandle@node>, <JSHandle preview=JSHandle@node>, <JSHandle preview=JSHandle@node>, <JSHandle preview=JSHandle@node>, <JSHandle preview=JSHandle@node>, <JSHandle preview=JSHandle@node>, <JSHandle preview=JSHandle@node>, <JSHandle preview=JSHandle@node>, <JSHandle preview=JSHandle@node>, <JSHandle preview=JSHandle@node>, <JSHandle preview=JSHandle@node>, <JSHandle preview=JSHandle@node>, <JSHandle preview=JSHandle@node>, <JSHandle preview=JSHandle@node>, <JSHandle preview=JSHandle@node>, <JSHandle preview=JSHandle@node>, <JSHandle preview=JSHandle@node>, <JSHandle preview=JSHandle@node>, <JSHandle preview=JSHandle@node>, <JSHandle preview=JSHandle@node>, <JSHandle preview=JSHandle@node>, <JSHandle preview=JSHandle@node>, <JSHandle preview=JSHandle@node>, <JSHandle preview=JSHandle@node>, <JSHandle preview=JSHandle@node>, <JSHandle preview=JSHandle@node>, <JSHandle preview=JSHandle@node>, <JSHandle preview=JSHandle@node>, <JSHandle preview=JSHandle@node>, <JSHandle preview=JSHandle@node>, <JSHandle preview=JSHandle@node>, <JSHandle preview=JSHandle@node>, <JSHandle preview=JSHandle@node>, <JSHandle preview=JSHandle@node>, <JSHandle preview=JSHandle@node>, <JSHandle preview=JSHandle@node>, <JSHandle preview=JSHandle@node>, <JSHandle preview=JSHandle@node>, <JSHandle preview=JSHandle@node>, <JSHandle preview=JSHandle@node>, <JSHandle preview=JSHandle@node>, <JSHandle preview=JSHandle@node>, <JSHandle preview=JSHandle@node>, <JSHandle preview=JSHandle@node>, <JSHandle preview=JSHandle@node>, <JSHandle preview=JSHandle@node>, <JSHandle preview=JSHandle@node>, <JSHandle preview=JSHandle@node>, <JSHandle preview=JSHandle@node>, <JSHandle preview=JSHandle@node>, <JSHandle preview=JSHandle@node>, <JSHandle preview=JSHandle@node>, <JSHandle preview=JSHandle@node>, <JSHandle preview=JSHandle@node>, <JSHandle preview=JSHandle@node>, <JSHandle preview=JSHandle@node>, <JSHandle preview=JSHandle@node>, <JSHandle preview=JSHandle@node>, <JSHandle preview=JSHandle@node>, <JSHandle preview=JSHandle@node>, <JSHandle preview=JSHandle@node>, <JSHandle preview=JSHandle@node>, <JSHandle preview=JSHandle@node>, <JSHandle preview=JSHandle@node>, <JSHandle preview=JSHandle@node>, <JSHandle preview=JSHandle@node>, <JSHandle preview=JSHandle@node>, <JSHandle preview=JSHandle@node>, <JSHandle preview=JSHandle@node>, <JSHandle preview=JSHandle@node>, <JSHandle preview=JSHandle@node>, <JSHandle preview=JSHandle@node>, <JSHandle preview=JSHandle@node>, <JSHandle preview=JSHandle@node>, <JSHandle preview=JSHandle@node>, <JSHandle preview=JSHandle@node>, <JSHandle preview=JSHandle@node>, <JSHandle preview=JSHandle@node>, <JSHandle preview=JSHandle@node>, <JSHandle preview=JSHandle@node>, <JSHandle preview=JSHandle@node>, <JSHandle preview=JSHandle@node>, <JSHandle preview=JSHandle@node>, <JSHandle preview=JSHandle@node>, <JSHandle preview=JSHandle@node>, <JSHandle preview=JSHandle@node>, <JSHandle preview=JSHandle@node>, <JSHandle preview=JSHandle@node>, <JSHandle preview=JSHandle@node>, <JSHandle preview=JSHandle@node>, <JSHandle preview=JSHandle@node>, <JSHandle preview=JSHandle@node>, <JSHandle preview=JSHandle@node>, <JSHandle preview=JSHandle@node>, <JSHandle preview=JSHandle@node>, <JSHandle preview=JSHandle@node>, <JSHandle preview=JSHandle@node>, <JSHandle preview=JSHandle@node>, <JSHandle preview=JSHandle@node>, <JSHandle preview=JSHandle@node>, <JSHandle preview=JSHandle@node>, <JSHandle preview=JSHandle@node>, <JSHandle preview=JSHandle@node>, <JSHandle preview=JSHandle@node>, <JSHandle preview=JSHandle@node>, <JSHandle preview=JSHandle@node>, <JSHandle preview=JSHandle@node>, <JSHandle preview=JSHandle@node>, <JSHandle preview=JSHandle@node>, <JSHandle preview=JSHandle@node>, <JSHandle preview=JSHandle@node>, <JSHandle preview=JSHandle@node>, <JSHandle preview=JSHandle@node>, <JSHandle preview=JSHandle@node>, <JSHandle preview=JSHandle@node>, <JSHandle preview=JSHandle@node>, <JSHandle preview=JSHandle@node>, <JSHandle preview=JSHandle@node>, <JSHandle preview=JSHandle@node>, <JSHandle preview=JSHandle@node>, <JSHandle preview=JSHandle@node>, <JSHandle preview=JSHandle@node>, <JSHandle preview=JSHandle@node>, <JSHandle preview=JSHandle@node>, <JSHandle preview=JSHandle@node>, <JSHandle preview=JSHandle@node>, <JSHandle preview=JSHandle@node>, <JSHandle preview=JSHandle@node>, <JSHandle preview=JSHandle@node>, <JSHandle preview=JSHandle@node>, <JSHandle preview=JSHandle@node>, <JSHandle preview=JSHandle@node>, <JSHandle preview=JSHandle@node>, <JSHandle preview=JSHandle@node>, <JSHandle preview=JSHandle@node>, <JSHandle preview=JSHandle@node>, <JSHandle preview=JSHandle@node>, <JSHandle preview=JSHandle@node>, <JSHandle preview=JSHandle@node>, <JSHandle preview=JSHandle@node>, <JSHandle preview=JSHandle@node>, <JSHandle preview=JSHandle@node>, <JSHandle preview=JSHandle@node>, <JSHandle preview=JSHandle@node>, <JSHandle preview=JSHandle@node>, <JSHandle preview=JSHandle@node>, <JSHandle preview=JSHandle@node>, <JSHandle preview=JSHandle@node>, <JSHandle preview=JSHandle@node>, <JSHandle preview=JSHandle@node>, <JSHandle preview=JSHandle@node>, <JSHandle preview=JSHandle@node>, <JSHandle preview=JSHandle@node>, <JSHandle preview=JSHandle@node>, <JSHandle preview=JSHandle@node>, <JSHandle preview=JSHandle@node>, <JSHandle preview=JSHandle@node>, <JSHandle preview=JSHandle@node>, <JSHandle preview=JSHandle@node>, <JSHandle preview=JSHandle@node>, <JSHandle preview=JSHandle@node>, <JSHandle preview=JSHandle@node>, <JSHandle preview=JSHandle@node>, <JSHandle preview=JSHandle@node>, <JSHandle preview=JSHandle@node>, <JSHandle preview=JSHandle@node>, <JSHandle preview=JSHandle@node>, <JSHandle preview=JSHandle@node>, <JSHandle preview=JSHandle@node>, <JSHandle preview=JSHandle@node>, <JSHandle preview=JSHandle@node>, <JSHandle preview=JSHandle@node>, <JSHandle preview=JSHandle@node>, <JSHandle preview=JSHandle@node>, <JSHandle preview=JSHandle@node>, <JSHandle preview=JSHandle@node>, <JSHandle preview=JSHandle@node>, <JSHandle preview=JSHandle@node>, <JSHandle preview=JSHandle@node>, <JSHandle preview=JSHandle@node>, <JSHandle preview=JSHandle@node>, <JSHandle preview=JSHandle@node>, <JSHandle preview=JSHandle@node>, <JSHandle preview=JSHandle@node>, <JSHandle preview=JSHandle@node>, <JSHandle preview=JSHandle@node>, <JSHandle preview=JSHandle@node>, <JSHandle preview=JSHandle@node>, <JSHandle preview=JSHandle@node>, <JSHandle preview=JSHandle@node>, <JSHandle preview=JSHandle@node>, <JSHandle preview=JSHandle@node>, <JSHandle preview=JSHandle@node>, <JSHandle preview=JSHandle@node>, <JSHandle preview=JSHandle@node>, <JSHandle preview=JSHandle@node>, <JSHandle preview=JSHandle@node>, <JSHandle preview=JSHandle@node>, <JSHandle preview=JSHandle@node>, <JSHandle preview=JSHandle@node>, <JSHandle preview=JSHandle@node>, <JSHandle preview=JSHandle@node>, <JSHandle preview=JSHandle@node>, <JSHandle preview=JSHandle@node>, <JSHandle preview=JSHandle@node>, <JSHandle preview=JSHandle@node>, <JSHandle preview=JSHandle@node>, <JSHandle preview=JSHandle@node>, <JSHandle preview=JSHandle@node>, <JSHandle preview=JSHandle@node>, <JSHandle preview=JSHandle@node>, <JSHandle preview=JSHandle@node>, <JSHandle preview=JSHandle@node>, <JSHandle preview=JSHandle@node>, <JSHandle preview=JSHandle@node>, <JSHandle preview=JSHandle@node>, <JSHandle preview=JSHandle@node>, <JSHandle preview=JSHandle@node>, <JSHandle preview=JSHandle@node>, <JSHandle preview=JSHandle@node>, <JSHandle preview=JSHandle@node>, <JSHandle preview=JSHandle@node>, <JSHandle preview=JSHandle@node>, <JSHandle preview=JSHandle@node>, <JSHandle preview=JSHandle@node>, <JSHandle preview=JSHandle@node>, <JSHandle preview=JSHandle@node>, <JSHandle preview=JSHandle@node>, <JSHandle preview=JSHandle@node>, <JSHandle preview=JSHandle@node>, <JSHandle preview=JSHandle@node>, <JSHandle preview=JSHandle@node>, <JSHandle preview=JSHandle@node>, <JSHandle preview=JSHandle@node>, <JSHandle preview=JSHandle@node>, <JSHandle preview=JSHandle@node>, <JSHandle preview=JSHandle@node>, <JSHandle preview=JSHandle@node>, <JSHandle preview=JSHandle@node>, <JSHandle preview=JSHandle@node>, <JSHandle preview=JSHandle@node>, <JSHandle preview=JSHandle@node>, <JSHandle preview=JSHandle@node>, <JSHandle preview=JSHandle@node>, <JSHandle preview=JSHandle@node>, <JSHandle preview=JSHandle@node>, <JSHandle preview=JSHandle@node>, <JSHandle preview=JSHandle@node>, <JSHandle preview=JSHandle@node>, <JSHandle preview=JSHandle@node>, <JSHandle preview=JSHandle@node>, <JSHandle preview=JSHandle@node>, <JSHandle preview=JSHandle@node>, <JSHandle preview=JSHandle@node>, <JSHandle preview=JSHandle@node>, <JSHandle preview=JSHandle@node>, <JSHandle preview=JSHandle@node>, <JSHandle preview=JSHandle@node>, <JSHandle preview=JSHandle@node>, <JSHandle preview=JSHandle@node>, <JSHandle preview=JSHandle@node>, <JSHandle preview=JSHandle@node>, <JSHandle preview=JSHandle@node>, <JSHandle preview=JSHandle@node>, <JSHandle preview=JSHandle@node>, <JSHandle preview=JSHandle@node>, <JSHandle preview=JSHandle@node>, <JSHandle preview=JSHandle@node>, <JSHandle preview=JSHandle@node>, <JSHandle preview=JSHandle@node>, <JSHandle preview=JSHandle@node>, <JSHandle preview=JSHandle@node>, <JSHandle preview=JSHandle@node>, <JSHandle preview=JSHandle@node>, <JSHandle preview=JSHandle@node>, <JSHandle preview=JSHandle@node>, <JSHandle preview=JSHandle@node>, <JSHandle preview=JSHandle@node>, <JSHandle preview=JSHandle@node>, <JSHandle preview=JSHandle@node>, <JSHandle preview=JSHandle@node>, <JSHandle preview=JSHandle@node>, <JSHandle preview=JSHandle@node>, <JSHandle preview=JSHandle@node>, <JSHandle preview=JSHandle@node>, <JSHandle preview=JSHandle@node>, <JSHandle preview=JSHandle@node>, <JSHandle preview=JSHandle@node>, <JSHandle preview=JSHandle@node>, <JSHandle preview=JSHandle@node>, <JSHandle preview=JSHandle@node>, <JSHandle preview=JSHandle@node>, <JSHandle preview=JSHandle@node>, <JSHandle preview=JSHandle@node>, <JSHandle preview=JSHandle@node>, <JSHandle preview=JSHandle@node>, <JSHandle preview=JSHandle@node>, <JSHandle preview=JSHandle@node>, <JSHandle preview=JSHandle@node>, <JSHandle preview=JSHandle@node>, <JSHandle preview=JSHandle@node>, <JSHandle preview=JSHandle@node>, <JSHandle preview=JSHandle@node>, <JSHandle preview=JSHandle@node>, <JSHandle preview=JSHandle@node>, <JSHandle preview=JSHandle@node>, <JSHandle preview=JSHandle@node>, <JSHandle preview=JSHandle@node>, <JSHandle preview=JSHandle@node>, <JSHandle preview=JSHandle@node>, <JSHandle preview=JSHandle@node>, <JSHandle preview=JSHandle@node>, <JSHandle preview=JSHandle@node>, <JSHandle preview=JSHandle@node>, <JSHandle preview=JSHandle@node>, <JSHandle preview=JSHandle@node>, <JSHandle preview=JSHandle@node>, <JSHandle preview=JSHandle@node>, <JSHandle preview=JSHandle@node>, <JSHandle preview=JSHandle@node>, <JSHandle preview=JSHandle@node>, <JSHandle preview=JSHandle@node>, <JSHandle preview=JSHandle@node>, <JSHandle preview=JSHandle@node>, <JSHandle preview=JSHandle@node>, <JSHandle preview=JSHandle@node>, <JSHandle preview=JSHandle@node>, <JSHandle preview=JSHandle@node>, <JSHandle preview=JSHandle@node>, <JSHandle preview=JSHandle@node>, <JSHandle preview=JSHandle@node>, <JSHandle preview=JSHandle@node>, <JSHandle preview=JSHandle@node>, <JSHandle preview=JSHandle@node>, <JSHandle preview=JSHandle@node>, <JSHandle preview=JSHandle@node>, <JSHandle preview=JSHandle@node>, <JSHandle preview=JSHandle@node>, <JSHandle preview=JSHandle@node>, <JSHandle preview=JSHandle@node>, <JSHandle preview=JSHandle@node>, <JSHandle preview=JSHandle@node>, <JSHandle preview=JSHandle@node>, <JSHandle preview=JSHandle@node>, <JSHandle preview=JSHandle@node>, <JSHandle preview=JSHandle@node>, <JSHandle preview=JSHandle@node>, <JSHandle preview=JSHandle@node>, <JSHandle preview=JSHandle@node>, <JSHandle preview=JSHandle@node>, <JSHandle preview=JSHandle@node>, <JSHandle preview=JSHandle@node>, <JSHandle preview=JSHandle@node>, <JSHandle preview=JSHandle@node>, <JSHandle preview=JSHandle@node>, <JSHandle preview=JSHandle@node>, <JSHandle preview=JSHandle@node>, <JSHandle preview=JSHandle@node>, <JSHandle preview=JSHandle@node>, <JSHandle preview=JSHandle@node>, <JSHandle preview=JSHandle@node>, <JSHandle preview=JSHandle@node>, <JSHandle preview=JSHandle@node>, <JSHandle preview=JSHandle@node>, <JSHandle preview=JSHandle@node>, <JSHandle preview=JSHandle@node>, <JSHandle preview=JSHandle@node>, <JSHandle preview=JSHandle@node>, <JSHandle preview=JSHandle@node>, <JSHandle preview=JSHandle@node>, <JSHandle preview=JSHandle@node>, <JSHandle preview=JSHandle@node>, <JSHandle preview=JSHandle@node>, <JSHandle preview=JSHandle@node>, <JSHandle preview=JSHandle@node>, <JSHandle preview=JSHandle@node>, <JSHandle preview=JSHandle@node>, <JSHandle preview=JSHandle@node>, <JSHandle preview=JSHandle@node>, <JSHandle preview=JSHandle@node>, <JSHandle preview=JSHandle@node>, <JSHandle preview=JSHandle@node>, <JSHandle preview=JSHandle@node>, <JSHandle preview=JSHandle@node>, <JSHandle preview=JSHandle@node>, <JSHandle preview=JSHandle@node>, <JSHandle preview=JSHandle@node>, <JSHandle preview=JSHandle@node>, <JSHandle preview=JSHandle@node>, <JSHandle preview=JSHandle@node>, <JSHandle preview=JSHandle@node>, <JSHandle preview=JSHandle@node>, <JSHandle preview=JSHandle@node>, <JSHandle preview=JSHandle@node>, <JSHandle preview=JSHandle@node>, <JSHandle preview=JSHandle@node>]\n"
          ]
        }
      ],
      "source": [
        "import json\n",
        "import asyncio\n",
        "import nest_asyncio\n",
        "from playwright.async_api import async_playwright\n",
        "\n",
        "# Apply the nest_asyncio fix to allow running asyncio within a Jupyter/Colab environment\n",
        "nest_asyncio.apply()\n",
        "\n",
        "# List of URLs to scrape\n",
        "urls = [\n",
        "    'https://twitchemotes.com/channels/207813352',  # Twitch emotes\n",
        "    'https://betterttv.com/users/5be4ca273d3f791478f2e481'  # BetterTTV emotes\n",
        "]\n",
        "\n",
        "# List to store all emote data (URL and name)\n",
        "emote_data = []\n",
        "\n",
        "async def fetch_emotes(page, url):\n",
        "    # Open the URL in the browser\n",
        "    await page.goto(url)\n",
        "    await page.wait_for_load_state('networkidle')  # Ensure the page fully loads\n",
        "\n",
        "    # Find all the <img> tags containing emote images for Twitch\n",
        "    if 'twitchemotes' in url:\n",
        "        image_tags = await page.query_selector_all('img')\n",
        "\n",
        "        # Extract the URLs and names of the emotes from Twitch\n",
        "        for img in image_tags:\n",
        "            src = await img.get_attribute('src')\n",
        "            emote_name = await img.get_attribute('data-regex')  # Extract emote name from the data-regex attribute\n",
        "\n",
        "            if src and emote_name and src.startswith('https://static-cdn.jtvnw.net/emoticons/v2/'):\n",
        "                emote_data.append({\n",
        "                    'url': src,\n",
        "                    'name': emote_name\n",
        "                })\n",
        "\n",
        "    # Find all <img> tags containing emote images for BetterTTV\n",
        "    elif 'betterttv' in url:\n",
        "        div_tags = await page.query_selector_all('div')\n",
        "\n",
        "        # Extract the URLs and names of the emotes from BetterTTV\n",
        "        for div in div_tags:\n",
        "            content = await div.evaluate('(element) => element.innerHTML')\n",
        "             # Check if the div has the desired class\n",
        "            class_name = await div.evaluate('(element) => element.className')\n",
        "\n",
        "            # This is just what happened to be named the class,\n",
        "            # I found this just by inspecting the elements on the HTML\n",
        "            if 'chakra-container css-k5mm6t' in class_name:\n",
        "                # If it matches, get all img tags within this div\n",
        "                img_tags = await div.query_selector_all('img')\n",
        "\n",
        "                # Extract the URLs and names of the emotes\n",
        "                for img in img_tags:\n",
        "                    src = await img.get_attribute('src')\n",
        "                    emote_name = await img.get_attribute('alt')\n",
        "\n",
        "                    if src and emote_name:\n",
        "                        emote_data.append({\n",
        "                            'url': src,\n",
        "                            'name': emote_name\n",
        "                        })\n",
        "\n",
        "async def main():\n",
        "    # Start Playwright and scrape emote data\n",
        "    async with async_playwright() as p:\n",
        "        # Launch browser in headless mode\n",
        "        browser = await p.chromium.launch(headless=True)\n",
        "        page = await browser.new_page()\n",
        "\n",
        "        # Fetch emotes for each URL\n",
        "        for url in urls:\n",
        "            await fetch_emotes(page, url)\n",
        "\n",
        "        # Close the browser\n",
        "        await browser.close()\n",
        "\n",
        "    # Print the number of emotes found and the first few for verification\n",
        "    print(f\"Total emotes found: {len(emote_data)}\")\n",
        "    print(emote_data[:5])  # Preview first 5 emotes\n",
        "\n",
        "    # Save the emote data to a JSON file\n",
        "    with open('emote_data.json', 'w') as json_file:\n",
        "        json.dump(emote_data, json_file, indent=4)\n",
        "\n",
        "# Run the main function\n",
        "await main()\n"
      ]
    },
    {
      "cell_type": "markdown",
      "metadata": {
        "id": "GYNZ-ygdaVT4"
      },
      "source": [
        "# BLIP Image Caption Generator"
      ]
    },
    {
      "cell_type": "code",
      "execution_count": null,
      "metadata": {
        "id": "9rPJ5cCOvY3o"
      },
      "outputs": [],
      "source": [
        "import csv\n",
        "import requests\n",
        "from PIL import Image\n",
        "from transformers import BlipProcessor, BlipForConditionalGeneration\n",
        "import json\n",
        "\n",
        "# Load the processor and model\n",
        "processor = BlipProcessor.from_pretrained(\"Salesforce/blip-image-captioning-large\")\n",
        "model = BlipForConditionalGeneration.from_pretrained(\"Salesforce/blip-image-captioning-large\")\n",
        "\n",
        "# Load JSON file\n",
        "with open('emote_data.json', 'r') as f:\n",
        "    emote_data = json.load(f)\n",
        "\n",
        "# Create the CSV file\n",
        "with open('hasan_abi_channel_emote_text.csv', mode='w', newline='') as file:\n",
        "    writer = csv.writer(file)\n",
        "    # Note, here conditional means given context about what it is labeling, ie \"an emote of a...\"\n",
        "    # unconditional would be the opposite, no context.\n",
        "    writer.writerow(['emote_name', 'text_description_conditional', 'text_description_unconditional'])\n",
        "\n",
        "    # Loop over each emote in the JSON\n",
        "    for emote in emote_data:\n",
        "        emote_name = emote['name']\n",
        "        img_url = emote['url']\n",
        "        print(emote_name)\n",
        "\n",
        "        # Fetch the image\n",
        "        try:\n",
        "            raw_image = Image.open(requests.get(img_url, stream=True).raw).convert('RGB')\n",
        "\n",
        "            # conditional image captioning\n",
        "            text = \"an emote showing \"\n",
        "            inputs = processor(raw_image, text, return_tensors=\"pt\")\n",
        "\n",
        "            out = model.generate(**inputs)\n",
        "            text_description_conditional = processor.decode(out[0], skip_special_tokens=True)\n",
        "            print(text_description_conditional)\n",
        "\n",
        "            # Unconditional image captioning\n",
        "            inputs = processor(raw_image, return_tensors=\"pt\")\n",
        "            out = model.generate(**inputs)\n",
        "            text_description_unconditional = processor.decode(out[0], skip_special_tokens=True)\n",
        "            print(text_description_unconditional)\n",
        "\n",
        "            # Write the data to the CSV\n",
        "            writer.writerow([emote_name, text_description_conditional, text_description_unconditional])\n",
        "\n",
        "        except Exception as e:\n",
        "            print(f\"Error processing {emote_name}: {e}\")\n"
      ]
    }
  ],
  "metadata": {
    "colab": {
      "provenance": []
    },
    "kernelspec": {
      "display_name": "Python 3",
      "name": "python3"
    },
    "language_info": {
      "name": "python"
    }
  },
  "nbformat": 4,
  "nbformat_minor": 0
}